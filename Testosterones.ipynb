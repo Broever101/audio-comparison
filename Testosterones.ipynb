{
 "cells": [
  {
   "cell_type": "code",
   "execution_count": 1,
   "metadata": {},
   "outputs": [
    {
     "name": "stderr",
     "output_type": "stream",
     "text": [
      "C:\\Users\\Rassam\\Anaconda3\\envs\\NLP\\lib\\site-packages\\librosa\\util\\decorators.py:9: NumbaDeprecationWarning: \u001b[1mAn import was requested from a module that has moved location.\n",
      "Import requested from: 'numba.decorators', please update to use 'numba.core.decorators' or pin to Numba version 0.48.0. This alias will not be present in Numba version 0.50.0.\u001b[0m\n",
      "  from numba.decorators import jit as optional_jit\n",
      "C:\\Users\\Rassam\\Anaconda3\\envs\\NLP\\lib\\site-packages\\librosa\\util\\decorators.py:9: NumbaDeprecationWarning: \u001b[1mAn import was requested from a module that has moved location.\n",
      "Import of 'jit' requested from: 'numba.decorators', please update to use 'numba.core.decorators' or pin to Numba version 0.48.0. This alias will not be present in Numba version 0.50.0.\u001b[0m\n",
      "  from numba.decorators import jit as optional_jit\n"
     ]
    }
   ],
   "source": [
    "import librosa\n",
    "import os\n",
    "import os.path\n",
    "import numpy as np\n",
    "import numba\n",
    "from numba import jit, cuda \n",
    "from tqdm import tqdm"
   ]
  },
  {
   "cell_type": "code",
   "execution_count": 2,
   "metadata": {},
   "outputs": [
    {
     "name": "stderr",
     "output_type": "stream",
     "text": [
      "C:\\Users\\Rassam\\Anaconda3\\envs\\NLP\\lib\\site-packages\\librosa\\core\\audio.py:161: UserWarning: PySoundFile failed. Trying audioread instead.\n",
      "  warnings.warn('PySoundFile failed. Trying audioread instead.')\n"
     ]
    }
   ],
   "source": [
    "search_for, rate = librosa.load(\"search/Undertow.mp3\")"
   ]
  },
  {
   "cell_type": "code",
   "execution_count": 40,
   "metadata": {},
   "outputs": [
    {
     "data": {
      "text/plain": [
       "5227449"
      ]
     },
     "execution_count": 40,
     "metadata": {},
     "output_type": "execute_result"
    }
   ],
   "source": [
    "len(search_for)"
   ]
  },
  {
   "cell_type": "code",
   "execution_count": 41,
   "metadata": {},
   "outputs": [
    {
     "data": {
      "text/plain": [
       "22050"
      ]
     },
     "execution_count": 41,
     "metadata": {},
     "output_type": "execute_result"
    }
   ],
   "source": [
    "rate"
   ]
  },
  {
   "cell_type": "code",
   "execution_count": 29,
   "metadata": {},
   "outputs": [],
   "source": [
    "class loadSongs():\n",
    "        \n",
    "    data_dict = {\"target_data.npy\": [\"target\", list()], \n",
    "                 \"source_data.npy\": [\"source\", list()]}\n",
    "    \n",
    "    def load_songs(self):\n",
    "        \n",
    "        for file in self.data_dict:\n",
    "            \n",
    "            print(\"Loading {} data\".format(self.data_dict[file][0]))\n",
    "            \n",
    "            if os.path.exists(file):\n",
    "                self.data_dict[file][1] = np.load(file, allow_pickle = True)\n",
    "            \n",
    "            else:\n",
    "                for song in tqdm(os.listdir(self.data_dict[file][0])):\n",
    "                    if song.endswith(\".mp3\"):\n",
    "                        self.data_dict[file][1].append([song, \n",
    "                                    librosa.load(os.path.join(self.data_dict[file][0], song))])\n",
    "                np.save(file, self.data_dict[file][1], allow_pickle = True)\n",
    "        \n",
    "        return self.data_dict[\"target_data.npy\"][1], self.data_dict[\"source_data.npy\"][1]\n",
    "    "
   ]
  },
  {
   "cell_type": "code",
   "execution_count": 30,
   "metadata": {},
   "outputs": [
    {
     "name": "stdout",
     "output_type": "stream",
     "text": [
      "Loading target data\n",
      "Loading source data\n"
     ]
    }
   ],
   "source": [
    "target, source = loadSongs().load_songs()\n",
    "#songs = load_songs(\"here/\")"
   ]
  },
  {
   "cell_type": "code",
   "execution_count": 5,
   "metadata": {},
   "outputs": [
    {
     "name": "stdout",
     "output_type": "stream",
     "text": [
      "<Managed Device 0>\n"
     ]
    }
   ],
   "source": [
    "import math\n",
    "print(cuda.gpus)"
   ]
  },
  {
   "cell_type": "code",
   "execution_count": 6,
   "metadata": {},
   "outputs": [],
   "source": [
    "# X threads in a block; all blocks combined should make up the length of the search song\n",
    "# so one thread in a block must compare upto X entries\n",
    "\n",
    "@cuda.jit\n",
    "def cosine_similarity_kernel(A, B, dot_prod, norm_A, norm_B):\n",
    "    \n",
    "    \"\"\"\n",
    "    A/B = vectors\n",
    "    dot_prod = vector to store the dot product of search and this\n",
    "    norm_A = norm of A .. bruh\n",
    "    norm_B = bleh\n",
    "    \"\"\"\n",
    "    \n",
    "    size = cuda.grid(1)\n",
    "    if size < len(search):\n",
    "        dot_prod[size] = A[size] * B[size]\n",
    "        norm_A += A[size]**2\n",
    "        norm_B += B[size]**2\n",
    "        "
   ]
  },
  {
   "cell_type": "code",
   "execution_count": 20,
   "metadata": {},
   "outputs": [],
   "source": [
    "def find_songs(source, target):\n",
    "\n",
    "    max_comparison = len(search_for)\n",
    "    threadsperblock = 128\n",
    "    blockspergrid = math.ceil(max_comparison / threadsperblock)\n",
    "    \n",
    "    for song in target:\n",
    "        \n",
    "        target_freq = song[1][0]\n",
    "        target_rate = song[1][1]\n",
    "        \n",
    "        for another_song in source:\n",
    "            \n",
    "            compare = len(another_song[1][0]) if len(another_song[1][0]) < len(target_freq) else len(target_freq)\n",
    "            \n",
    "            for i in range(len(target_freq)):\n",
    "                norm_A = cuda.to_device(np.zeros(compare))\n",
    "                norm_B = cuda.to_device(np.zeros(compare))\n",
    "                dot_prod = cuda.to_device(np.zeros(compare))\n",
    "                \n",
    "                target_glob = cuda.to_device(target_freq)\n",
    "                source_glob = cuda.to_device(another_song[1][0])\n",
    "                \n",
    "                cosine_similarity_kernel[blockspergrid, threadsperblock](target_glob, source_glob,\n",
    "                                                                        dot_prod, norm_A, norm_B)\n",
    "                norm_A = norm_A.copy_to_host()\n",
    "                norm_B = norm_B.copy_to_host()\n",
    "                dot_prod = dot_prod.copy_to_host()\n",
    "                \n",
    "                similarity = dot_prod/math.sqrt(sum(norm_A) * sum(norm_B))\n",
    "                \n",
    "                if similarity > 0.5:\n",
    "                    print(\"{} matched with {}\".format(another_song[0], song[0]))\n",
    "        "
   ]
  },
  {
   "cell_type": "code",
   "execution_count": 44,
   "metadata": {},
   "outputs": [
    {
     "name": "stdout",
     "output_type": "stream",
     "text": [
      "03. Shaped by Fire.mp3\n"
     ]
    }
   ],
   "source": [
    "for song in target:\n",
    "    print(song[0])\n",
    "    break"
   ]
  },
  {
   "cell_type": "code",
   "execution_count": null,
   "metadata": {},
   "outputs": [],
   "source": []
  }
 ],
 "metadata": {
  "kernelspec": {
   "display_name": "Python 3",
   "language": "python",
   "name": "python3"
  },
  "language_info": {
   "codemirror_mode": {
    "name": "ipython",
    "version": 3
   },
   "file_extension": ".py",
   "mimetype": "text/x-python",
   "name": "python",
   "nbconvert_exporter": "python",
   "pygments_lexer": "ipython3",
   "version": "3.7.6"
  }
 },
 "nbformat": 4,
 "nbformat_minor": 2
}
